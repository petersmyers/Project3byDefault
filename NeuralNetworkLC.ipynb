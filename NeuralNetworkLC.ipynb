{
 "cells": [
  {
   "cell_type": "markdown",
   "metadata": {},
   "source": [
    "# Bringing the data in and arranging it nice and pretty like"
   ]
  },
  {
   "cell_type": "code",
   "execution_count": 1,
   "metadata": {},
   "outputs": [],
   "source": [
    "# Set the seed value for the notebook so the results are reproducible\n",
    "from numpy.random import seed\n",
    "seed(1)\n",
    "\n",
    "# Input a shit ton of dependencies\n",
    "%matplotlib inline\n",
    "import matplotlib.pyplot as plt\n",
    "import numpy as np\n",
    "import sklearn\n",
    "import sklearn.datasets\n",
    "from sklearn.model_selection import train_test_split\n",
    "from sklearn.preprocessing import StandardScaler\n",
    "import pandas as pd\n",
    "\n",
    "from tensorflow.keras.utils import to_categorical\n",
    "from tensorflow.keras.models import Sequential\n",
    "from tensorflow.keras.layers import Dense"
   ]
  },
  {
   "cell_type": "code",
   "execution_count": 2,
   "metadata": {},
   "outputs": [],
   "source": [
    "# Import Data\n",
    "LC = pd.read_csv('~/Desktop/Project3byDefault/Loan_Stats.csv')\n",
    "\n",
    "# And change the interest rate into an actual float, rather than an object\n",
    "LC.int_rate = LC.int_rate.str.replace(r'%', '')\n",
    "LC.int_rate = LC.int_rate.astype(float)\n",
    "LC.int_rate = LC.int_rate/100"
   ]
  },
  {
   "cell_type": "code",
   "execution_count": 3,
   "metadata": {},
   "outputs": [],
   "source": [
    "# Separate the X values (predictors) from the Y targets (classes)\n",
    "LC_X = LC.drop(['loan_status', 'addr_state'], axis=1)\n",
    "LC_Y = LC['loan_status']\n",
    "LC_Y_cat, levels = pd.factorize(LC_Y)\n",
    "\n",
    "# Then create the training and test data\n",
    "X_train, X_test, Y_train, Y_test = train_test_split(LC_X, LC_Y_cat, random_state = 1)"
   ]
  },
  {
   "cell_type": "code",
   "execution_count": 4,
   "metadata": {
    "nbgrader": {
     "grade": false,
     "grade_id": "cell-9532e12246e485d5",
     "locked": false,
     "schema_version": 1,
     "solution": true
    }
   },
   "outputs": [],
   "source": [
    "# Transform the training and testing data using the X_scaler\n",
    "X_scaler = StandardScaler().fit(X_train)\n",
    "\n",
    "X_train_scaled = X_scaler.transform(X_train)\n",
    "X_test_scaled = X_scaler.transform(X_test)"
   ]
  },
  {
   "cell_type": "code",
   "execution_count": 5,
   "metadata": {},
   "outputs": [],
   "source": [
    "# One-hot encoding (i.e. transform the Y targets into numbers, rather than \"Charged off\" and \"Fully Paid\")\n",
    "Y_train_categorical = to_categorical(Y_train)\n",
    "Y_test_categorical = to_categorical(Y_test)"
   ]
  },
  {
   "cell_type": "markdown",
   "metadata": {},
   "source": [
    "# Start with a basic neural network, tossing all 27 variables into the mix to predict our two targest"
   ]
  },
  {
   "cell_type": "code",
   "execution_count": 7,
   "metadata": {
    "nbgrader": {
     "grade": false,
     "grade_id": "cell-ec399a95e133cb58",
     "locked": false,
     "schema_version": 1,
     "solution": true
    }
   },
   "outputs": [
    {
     "name": "stdout",
     "output_type": "stream",
     "text": [
      "WARNING:tensorflow:From /anaconda3/envs/PythonData/lib/python3.6/site-packages/tensorflow/python/ops/resource_variable_ops.py:435: colocate_with (from tensorflow.python.framework.ops) is deprecated and will be removed in a future version.\n",
      "Instructions for updating:\n",
      "Colocations handled automatically by placer.\n"
     ]
    }
   ],
   "source": [
    "# first, create a normal neural network with 27 inputs, 6 hidden nodes, and 2 outputs\n",
    "model_all = Sequential()\n",
    "model_all.add(Dense(units=6, activation='relu', input_dim=27))\n",
    "model_all.add(Dense(units=2, activation='softmax'))\n",
    "\n",
    "# Take a look at the model summary\n",
    "model_all.summary()"
   ]
  },
  {
   "cell_type": "code",
   "execution_count": 9,
   "metadata": {},
   "outputs": [],
   "source": [
    "# Compile the model\n",
    "model_all.compile(optimizer='adam',\n",
    "              loss='categorical_crossentropy',\n",
    "              metrics=['accuracy'])"
   ]
  },
  {
   "cell_type": "code",
   "execution_count": 10,
   "metadata": {
    "nbgrader": {
     "grade": false,
     "grade_id": "cell-5cf2fbdbea0ed50b",
     "locked": false,
     "schema_version": 1,
     "solution": true
    }
   },
   "outputs": [
    {
     "name": "stdout",
     "output_type": "stream",
     "text": [
      "WARNING:tensorflow:From /anaconda3/envs/PythonData/lib/python3.6/site-packages/tensorflow/python/ops/math_ops.py:3066: to_int32 (from tensorflow.python.ops.math_ops) is deprecated and will be removed in a future version.\n",
      "Instructions for updating:\n",
      "Use tf.cast instead.\n",
      "Epoch 1/100\n",
      " - 10s - loss: 0.4899 - acc: 0.7784\n",
      "Epoch 2/100\n",
      " - 10s - loss: 0.4760 - acc: 0.7848\n",
      "Epoch 3/100\n",
      " - 9s - loss: 0.4750 - acc: 0.7855\n",
      "Epoch 4/100\n",
      " - 10s - loss: 0.4746 - acc: 0.7858\n",
      "Epoch 5/100\n",
      " - 10s - loss: 0.4743 - acc: 0.7862\n",
      "Epoch 6/100\n",
      " - 10s - loss: 0.4742 - acc: 0.7856\n",
      "Epoch 7/100\n",
      " - 9s - loss: 0.4740 - acc: 0.7858\n",
      "Epoch 8/100\n",
      " - 9s - loss: 0.4740 - acc: 0.7857\n",
      "Epoch 9/100\n",
      " - 9s - loss: 0.4738 - acc: 0.7856\n",
      "Epoch 10/100\n",
      " - 10s - loss: 0.4737 - acc: 0.7858\n",
      "Epoch 11/100\n",
      " - 10s - loss: 0.4737 - acc: 0.7856\n",
      "Epoch 12/100\n",
      " - 10s - loss: 0.4736 - acc: 0.7854\n",
      "Epoch 13/100\n",
      " - 9s - loss: 0.4736 - acc: 0.7857\n",
      "Epoch 14/100\n",
      " - 9s - loss: 0.4735 - acc: 0.7859\n",
      "Epoch 15/100\n",
      " - 9s - loss: 0.4735 - acc: 0.7858\n",
      "Epoch 16/100\n",
      " - 9s - loss: 0.4736 - acc: 0.7858\n",
      "Epoch 17/100\n",
      " - 9s - loss: 0.4735 - acc: 0.7859\n",
      "Epoch 18/100\n",
      " - 10s - loss: 0.4735 - acc: 0.7860\n",
      "Epoch 19/100\n",
      " - 9s - loss: 0.4734 - acc: 0.7857\n",
      "Epoch 20/100\n",
      " - 10s - loss: 0.4734 - acc: 0.7859\n",
      "Epoch 21/100\n",
      " - 9s - loss: 0.4734 - acc: 0.7861\n",
      "Epoch 22/100\n",
      " - 9s - loss: 0.4734 - acc: 0.7858\n",
      "Epoch 23/100\n",
      " - 10s - loss: 0.4734 - acc: 0.7858\n",
      "Epoch 24/100\n",
      " - 9s - loss: 0.4734 - acc: 0.7860\n",
      "Epoch 25/100\n",
      " - 9s - loss: 0.4734 - acc: 0.7860\n",
      "Epoch 26/100\n",
      " - 10s - loss: 0.4733 - acc: 0.7860\n",
      "Epoch 27/100\n",
      " - 9s - loss: 0.4734 - acc: 0.7857\n",
      "Epoch 28/100\n",
      " - 9s - loss: 0.4733 - acc: 0.7858\n",
      "Epoch 29/100\n",
      " - 9s - loss: 0.4733 - acc: 0.7858\n",
      "Epoch 30/100\n",
      " - 9s - loss: 0.4734 - acc: 0.7855\n",
      "Epoch 31/100\n",
      " - 9s - loss: 0.4733 - acc: 0.7859\n",
      "Epoch 32/100\n",
      " - 9s - loss: 0.4734 - acc: 0.7858\n",
      "Epoch 33/100\n",
      " - 10s - loss: 0.4733 - acc: 0.7860\n",
      "Epoch 34/100\n",
      " - 10s - loss: 0.4733 - acc: 0.7860\n",
      "Epoch 35/100\n",
      " - 11s - loss: 0.4733 - acc: 0.7860\n",
      "Epoch 36/100\n",
      " - 10s - loss: 0.4732 - acc: 0.7858\n",
      "Epoch 37/100\n",
      " - 10s - loss: 0.4733 - acc: 0.7859\n",
      "Epoch 38/100\n",
      " - 9s - loss: 0.4733 - acc: 0.7857\n",
      "Epoch 39/100\n",
      " - 9s - loss: 0.4732 - acc: 0.7861\n",
      "Epoch 40/100\n",
      " - 9s - loss: 0.4732 - acc: 0.7860\n",
      "Epoch 41/100\n",
      " - 9s - loss: 0.4733 - acc: 0.7858\n",
      "Epoch 42/100\n",
      " - 9s - loss: 0.4733 - acc: 0.7859\n",
      "Epoch 43/100\n",
      " - 9s - loss: 0.4732 - acc: 0.7859\n",
      "Epoch 44/100\n",
      " - 9s - loss: 0.4732 - acc: 0.7859\n",
      "Epoch 45/100\n",
      " - 9s - loss: 0.4732 - acc: 0.7859\n",
      "Epoch 46/100\n",
      " - 10s - loss: 0.4732 - acc: 0.7858\n",
      "Epoch 47/100\n",
      " - 10s - loss: 0.4733 - acc: 0.7858\n",
      "Epoch 48/100\n",
      " - 9s - loss: 0.4732 - acc: 0.7860\n",
      "Epoch 49/100\n",
      " - 9s - loss: 0.4732 - acc: 0.7859\n",
      "Epoch 50/100\n",
      " - 9s - loss: 0.4732 - acc: 0.7859\n",
      "Epoch 51/100\n",
      " - 9s - loss: 0.4732 - acc: 0.7857\n",
      "Epoch 52/100\n",
      " - 9s - loss: 0.4732 - acc: 0.7861\n",
      "Epoch 53/100\n",
      " - 9s - loss: 0.4733 - acc: 0.7860\n",
      "Epoch 54/100\n",
      " - 9s - loss: 0.4732 - acc: 0.7860\n",
      "Epoch 55/100\n",
      " - 9s - loss: 0.4732 - acc: 0.7860\n",
      "Epoch 56/100\n",
      " - 9s - loss: 0.4733 - acc: 0.7858\n",
      "Epoch 57/100\n",
      " - 9s - loss: 0.4732 - acc: 0.7860\n",
      "Epoch 58/100\n",
      " - 9s - loss: 0.4732 - acc: 0.7858\n",
      "Epoch 59/100\n",
      " - 9s - loss: 0.4732 - acc: 0.7860\n",
      "Epoch 60/100\n",
      " - 9s - loss: 0.4732 - acc: 0.7859\n",
      "Epoch 61/100\n",
      " - 9s - loss: 0.4732 - acc: 0.7861\n",
      "Epoch 62/100\n",
      " - 9s - loss: 0.4732 - acc: 0.7861\n",
      "Epoch 63/100\n",
      " - 9s - loss: 0.4732 - acc: 0.7860\n",
      "Epoch 64/100\n",
      " - 9s - loss: 0.4732 - acc: 0.7860\n",
      "Epoch 65/100\n",
      " - 11s - loss: 0.4731 - acc: 0.7858\n",
      "Epoch 66/100\n",
      " - 10s - loss: 0.4731 - acc: 0.7859\n",
      "Epoch 67/100\n",
      " - 9s - loss: 0.4732 - acc: 0.7860\n",
      "Epoch 68/100\n",
      " - 9s - loss: 0.4732 - acc: 0.7856\n",
      "Epoch 69/100\n",
      " - 9s - loss: 0.4732 - acc: 0.7859\n",
      "Epoch 70/100\n",
      " - 9s - loss: 0.4732 - acc: 0.7860\n",
      "Epoch 71/100\n",
      " - 9s - loss: 0.4731 - acc: 0.7859\n",
      "Epoch 72/100\n",
      " - 10s - loss: 0.4732 - acc: 0.7859\n",
      "Epoch 73/100\n",
      " - 9s - loss: 0.4732 - acc: 0.7857\n",
      "Epoch 74/100\n",
      " - 9s - loss: 0.4732 - acc: 0.7859\n",
      "Epoch 75/100\n",
      " - 9s - loss: 0.4731 - acc: 0.7861\n",
      "Epoch 76/100\n",
      " - 9s - loss: 0.4732 - acc: 0.7859\n",
      "Epoch 77/100\n",
      " - 10s - loss: 0.4732 - acc: 0.7862\n",
      "Epoch 78/100\n",
      " - 10s - loss: 0.4732 - acc: 0.7860\n",
      "Epoch 79/100\n",
      " - 10s - loss: 0.4731 - acc: 0.7860\n",
      "Epoch 80/100\n",
      " - 10s - loss: 0.4731 - acc: 0.7859\n",
      "Epoch 81/100\n",
      " - 11s - loss: 0.4731 - acc: 0.7863\n",
      "Epoch 82/100\n",
      " - 10s - loss: 0.4731 - acc: 0.7860\n",
      "Epoch 83/100\n",
      " - 10s - loss: 0.4731 - acc: 0.7861\n",
      "Epoch 84/100\n",
      " - 10s - loss: 0.4731 - acc: 0.7863\n",
      "Epoch 85/100\n",
      " - 9s - loss: 0.4731 - acc: 0.7858\n",
      "Epoch 86/100\n",
      " - 10s - loss: 0.4731 - acc: 0.7862\n",
      "Epoch 87/100\n",
      " - 9s - loss: 0.4731 - acc: 0.7861\n",
      "Epoch 88/100\n",
      " - 9s - loss: 0.4731 - acc: 0.7858\n",
      "Epoch 89/100\n",
      " - 10s - loss: 0.4731 - acc: 0.7859\n",
      "Epoch 90/100\n",
      " - 10s - loss: 0.4731 - acc: 0.7860\n",
      "Epoch 91/100\n",
      " - 9s - loss: 0.4732 - acc: 0.7860\n",
      "Epoch 92/100\n",
      " - 9s - loss: 0.4730 - acc: 0.7857\n",
      "Epoch 93/100\n",
      " - 9s - loss: 0.4731 - acc: 0.7858\n",
      "Epoch 94/100\n",
      " - 10s - loss: 0.4731 - acc: 0.7859\n",
      "Epoch 95/100\n",
      " - 10s - loss: 0.4732 - acc: 0.7858\n",
      "Epoch 96/100\n",
      " - 10s - loss: 0.4731 - acc: 0.7860\n",
      "Epoch 97/100\n",
      " - 9s - loss: 0.4731 - acc: 0.7860\n",
      "Epoch 98/100\n",
      " - 9s - loss: 0.4731 - acc: 0.7859\n",
      "Epoch 99/100\n",
      " - 9s - loss: 0.4732 - acc: 0.7860\n",
      "Epoch 100/100\n",
      " - 10s - loss: 0.4731 - acc: 0.7859\n"
     ]
    },
    {
     "data": {
      "text/plain": [
       "<tensorflow.python.keras.callbacks.History at 0x1a3cfc5fd0>"
      ]
     },
     "execution_count": 10,
     "metadata": {},
     "output_type": "execute_result"
    }
   ],
   "source": [
    "# Fit the model to the training data\n",
    "model_all.fit(\n",
    "    X_train_scaled,\n",
    "    Y_train_categorical,\n",
    "    epochs=100,\n",
    "    shuffle=True,\n",
    "    verbose=2)"
   ]
  },
  {
   "cell_type": "markdown",
   "metadata": {},
   "source": [
    "# Deep Learning- Add an additional layer"
   ]
  },
  {
   "cell_type": "code",
   "execution_count": 6,
   "metadata": {},
   "outputs": [
    {
     "name": "stdout",
     "output_type": "stream",
     "text": [
      "WARNING:tensorflow:From /anaconda3/envs/PythonData/lib/python3.6/site-packages/tensorflow/python/ops/resource_variable_ops.py:435: colocate_with (from tensorflow.python.framework.ops) is deprecated and will be removed in a future version.\n",
      "Instructions for updating:\n",
      "Colocations handled automatically by placer.\n"
     ]
    }
   ],
   "source": [
    "# Now we add another layer for fun.\n",
    "# Again, we are tossing all 27 variables into the mix\n",
    "deep_model_all = Sequential()\n",
    "deep_model_all.add(Dense(units=6, activation='relu', input_dim=27))\n",
    "deep_model_all.add(Dense(units=6, activation='relu'))\n",
    "deep_model_all.add(Dense(units=2, activation='softmax'))\n",
    "\n",
    "# Print your model summary\n",
    "deep_model_all.summary()"
   ]
  },
  {
   "cell_type": "code",
   "execution_count": null,
   "metadata": {},
   "outputs": [],
   "source": [
    "# Compile\n",
    "deep_model_all.compile(optimizer='adam',\n",
    "                   loss='categorical_crossentropy',\n",
    "                   metrics=['accuracy'])\n",
    "\n",
    "# And run\n",
    "deep_model_all.fit(\n",
    "    X_train_scaled,\n",
    "    Y_train_categorical,\n",
    "    epochs=100,\n",
    "    shuffle=True,\n",
    "    verbose=2)"
   ]
  },
  {
   "cell_type": "markdown",
   "metadata": {},
   "source": [
    "# Deep Learning, limited model"
   ]
  },
  {
   "cell_type": "markdown",
   "metadata": {},
   "source": [
    "# Included only 10 different variables \n",
    "#### 1- Interest rate \n",
    "#### 2- loan amount \n",
    "#### 3- annual income \n",
    "#### 4- dti \n",
    "#### 5- delinquencies in 2 years \n",
    "#### 6- total accounts\n",
    "#### 7- open accounts \n",
    "#### 8- percent total never delinquent\n",
    "#### 9- bankrupcies \n",
    "#### 10- total balance ex mort"
   ]
  },
  {
   "cell_type": "code",
   "execution_count": 8,
   "metadata": {},
   "outputs": [],
   "source": [
    "# NEED TO REMAKE THE X-MATRIX\n",
    "LC_X_remake = LC[['int_rate', 'loan_amnt', 'annual_inc', 'dti', 'delinq_2yrs', 'total_acc', 'open_acc',\n",
    "           'pct_tl_nvr_dlq', 'pub_rec_bankruptcies', 'total_bal_ex_mort']].copy()\n",
    "\n",
    "# Then create the training and text data\n",
    "X_train_remake, X_test_remake, Y_train_remake, Y_test_remake = train_test_split(LC_X_remake, LC_Y_cat, \n",
    "                                                                                random_state=1)"
   ]
  },
  {
   "cell_type": "code",
   "execution_count": 9,
   "metadata": {},
   "outputs": [],
   "source": [
    "# Transform the training and testing data using the X_scaler\n",
    "X_scaler_remake = StandardScaler().fit(X_train_remake)\n",
    "\n",
    "X_train_scaled_remake = X_scaler_remake.transform(X_train_remake)\n",
    "X_test_scaled_remake = X_scaler_remake.transform(X_test_remake)\n",
    "\n",
    "Y_train_categorical_remake = to_categorical(Y_train_remake)\n",
    "Y_test_categorical_remake = to_categorical(Y_test_remake)"
   ]
  },
  {
   "cell_type": "code",
   "execution_count": 10,
   "metadata": {},
   "outputs": [],
   "source": [
    "# Remaking the deep learning model, just with fewer inputs\n",
    "deep_model_remake = Sequential()\n",
    "deep_model_remake.add(Dense(units=6, activation='relu', input_dim=10))\n",
    "deep_model_remake.add(Dense(units=6, activation='relu'))\n",
    "deep_model_remake.add(Dense(units=2, activation='softmax'))\n",
    "\n",
    "# And summarize\n",
    "deep_model_remake.summary()"
   ]
  },
  {
   "cell_type": "code",
   "execution_count": 12,
   "metadata": {},
   "outputs": [
    {
     "name": "stdout",
     "output_type": "stream",
     "text": [
      "WARNING:tensorflow:From /anaconda3/envs/PythonData/lib/python3.6/site-packages/tensorflow/python/ops/math_ops.py:3066: to_int32 (from tensorflow.python.ops.math_ops) is deprecated and will be removed in a future version.\n",
      "Instructions for updating:\n",
      "Use tf.cast instead.\n",
      "Epoch 1/100\n",
      " - 11s - loss: 0.4938 - acc: 0.7758\n",
      "Epoch 2/100\n",
      " - 10s - loss: 0.4814 - acc: 0.7832\n",
      "Epoch 3/100\n",
      " - 10s - loss: 0.4810 - acc: 0.7834\n",
      "Epoch 4/100\n",
      " - 10s - loss: 0.4808 - acc: 0.7835\n",
      "Epoch 5/100\n",
      " - 11s - loss: 0.4806 - acc: 0.7837\n",
      "Epoch 6/100\n",
      " - 11s - loss: 0.4805 - acc: 0.7838\n",
      "Epoch 7/100\n",
      " - 11s - loss: 0.4803 - acc: 0.7836\n",
      "Epoch 8/100\n",
      " - 11s - loss: 0.4801 - acc: 0.7840\n",
      "Epoch 9/100\n",
      " - 11s - loss: 0.4799 - acc: 0.7837\n",
      "Epoch 10/100\n",
      " - 10s - loss: 0.4798 - acc: 0.7838\n",
      "Epoch 11/100\n",
      " - 10s - loss: 0.4796 - acc: 0.7839\n",
      "Epoch 12/100\n",
      " - 10s - loss: 0.4796 - acc: 0.7840\n",
      "Epoch 13/100\n",
      " - 10s - loss: 0.4794 - acc: 0.7840\n",
      "Epoch 14/100\n",
      " - 10s - loss: 0.4794 - acc: 0.7836\n",
      "Epoch 15/100\n",
      " - 11s - loss: 0.4794 - acc: 0.7838\n",
      "Epoch 16/100\n",
      " - 10s - loss: 0.4793 - acc: 0.7841\n",
      "Epoch 17/100\n",
      " - 10s - loss: 0.4793 - acc: 0.7840\n",
      "Epoch 18/100\n",
      " - 10s - loss: 0.4792 - acc: 0.7840\n",
      "Epoch 19/100\n",
      " - 11s - loss: 0.4792 - acc: 0.7840\n",
      "Epoch 20/100\n",
      " - 10s - loss: 0.4792 - acc: 0.7839\n",
      "Epoch 21/100\n",
      " - 11s - loss: 0.4791 - acc: 0.7840\n",
      "Epoch 22/100\n",
      " - 11s - loss: 0.4791 - acc: 0.7840\n",
      "Epoch 23/100\n",
      " - 11s - loss: 0.4791 - acc: 0.7841\n",
      "Epoch 24/100\n",
      " - 11s - loss: 0.4791 - acc: 0.7840\n",
      "Epoch 25/100\n",
      " - 11s - loss: 0.4790 - acc: 0.7840\n",
      "Epoch 26/100\n",
      " - 10s - loss: 0.4790 - acc: 0.7839\n",
      "Epoch 27/100\n",
      " - 10s - loss: 0.4790 - acc: 0.7840\n",
      "Epoch 28/100\n",
      " - 10s - loss: 0.4789 - acc: 0.7840\n",
      "Epoch 29/100\n",
      " - 10s - loss: 0.4789 - acc: 0.7839\n",
      "Epoch 30/100\n",
      " - 10s - loss: 0.4789 - acc: 0.7840\n",
      "Epoch 31/100\n",
      " - 10s - loss: 0.4790 - acc: 0.7838\n",
      "Epoch 32/100\n",
      " - 10s - loss: 0.4790 - acc: 0.7840\n",
      "Epoch 33/100\n",
      " - 10s - loss: 0.4789 - acc: 0.7839\n",
      "Epoch 34/100\n",
      " - 10s - loss: 0.4788 - acc: 0.7840\n",
      "Epoch 35/100\n",
      " - 10s - loss: 0.4789 - acc: 0.7840\n",
      "Epoch 36/100\n",
      " - 11s - loss: 0.4788 - acc: 0.7840\n",
      "Epoch 37/100\n",
      " - 11s - loss: 0.4788 - acc: 0.7839\n",
      "Epoch 38/100\n",
      " - 11s - loss: 0.4788 - acc: 0.7840\n",
      "Epoch 39/100\n",
      " - 10s - loss: 0.4788 - acc: 0.7838\n",
      "Epoch 40/100\n",
      " - 10s - loss: 0.4787 - acc: 0.7838\n",
      "Epoch 41/100\n",
      " - 10s - loss: 0.4788 - acc: 0.7840\n",
      "Epoch 42/100\n",
      " - 11s - loss: 0.4788 - acc: 0.7840\n",
      "Epoch 43/100\n",
      " - 11s - loss: 0.4787 - acc: 0.7839\n",
      "Epoch 44/100\n",
      " - 10s - loss: 0.4787 - acc: 0.7838\n",
      "Epoch 45/100\n",
      " - 10s - loss: 0.4787 - acc: 0.7838\n",
      "Epoch 46/100\n",
      " - 10s - loss: 0.4787 - acc: 0.7838\n",
      "Epoch 47/100\n",
      " - 11s - loss: 0.4787 - acc: 0.7839\n",
      "Epoch 48/100\n",
      " - 10s - loss: 0.4787 - acc: 0.7839\n",
      "Epoch 49/100\n",
      " - 10s - loss: 0.4787 - acc: 0.7840\n",
      "Epoch 50/100\n",
      " - 10s - loss: 0.4787 - acc: 0.7841\n",
      "Epoch 51/100\n",
      " - 10s - loss: 0.4787 - acc: 0.7839\n",
      "Epoch 52/100\n",
      " - 10s - loss: 0.4786 - acc: 0.7841\n",
      "Epoch 53/100\n",
      " - 13s - loss: 0.4787 - acc: 0.7841\n",
      "Epoch 54/100\n",
      " - 12s - loss: 0.4787 - acc: 0.7838\n",
      "Epoch 55/100\n",
      " - 10s - loss: 0.4786 - acc: 0.7839\n",
      "Epoch 56/100\n",
      " - 10s - loss: 0.4787 - acc: 0.7839\n",
      "Epoch 57/100\n",
      " - 10s - loss: 0.4786 - acc: 0.7840\n",
      "Epoch 58/100\n",
      " - 10s - loss: 0.4786 - acc: 0.7840\n",
      "Epoch 59/100\n",
      " - 10s - loss: 0.4787 - acc: 0.7839\n",
      "Epoch 60/100\n",
      " - 10s - loss: 0.4786 - acc: 0.7839\n",
      "Epoch 61/100\n",
      " - 10s - loss: 0.4786 - acc: 0.7839\n",
      "Epoch 62/100\n",
      " - 10s - loss: 0.4786 - acc: 0.7838\n",
      "Epoch 63/100\n",
      " - 10s - loss: 0.4786 - acc: 0.7838\n",
      "Epoch 64/100\n",
      " - 10s - loss: 0.4786 - acc: 0.7838\n",
      "Epoch 65/100\n",
      " - 10s - loss: 0.4785 - acc: 0.7840\n",
      "Epoch 66/100\n",
      " - 10s - loss: 0.4786 - acc: 0.7838\n",
      "Epoch 67/100\n",
      " - 10s - loss: 0.4787 - acc: 0.7841\n",
      "Epoch 68/100\n",
      " - 10s - loss: 0.4786 - acc: 0.7840\n",
      "Epoch 69/100\n",
      " - 10s - loss: 0.4786 - acc: 0.7839\n",
      "Epoch 70/100\n",
      " - 10s - loss: 0.4786 - acc: 0.7839\n",
      "Epoch 71/100\n",
      " - 11s - loss: 0.4785 - acc: 0.7839\n",
      "Epoch 72/100\n",
      " - 10s - loss: 0.4785 - acc: 0.7841\n",
      "Epoch 73/100\n",
      " - 11s - loss: 0.4786 - acc: 0.7842\n",
      "Epoch 74/100\n",
      " - 10s - loss: 0.4785 - acc: 0.7839\n",
      "Epoch 75/100\n",
      " - 10s - loss: 0.4786 - acc: 0.7840\n",
      "Epoch 76/100\n",
      " - 11s - loss: 0.4786 - acc: 0.7841\n",
      "Epoch 77/100\n",
      " - 11s - loss: 0.4785 - acc: 0.7839\n",
      "Epoch 78/100\n",
      " - 10s - loss: 0.4786 - acc: 0.7840\n",
      "Epoch 79/100\n",
      " - 10s - loss: 0.4785 - acc: 0.7841\n",
      "Epoch 80/100\n",
      " - 11s - loss: 0.4785 - acc: 0.7841\n",
      "Epoch 81/100\n",
      " - 10s - loss: 0.4784 - acc: 0.7839\n",
      "Epoch 82/100\n",
      " - 10s - loss: 0.4785 - acc: 0.7841\n",
      "Epoch 83/100\n",
      " - 10s - loss: 0.4784 - acc: 0.7840\n",
      "Epoch 84/100\n",
      " - 10s - loss: 0.4785 - acc: 0.7840\n",
      "Epoch 85/100\n",
      " - 11s - loss: 0.4784 - acc: 0.7840\n",
      "Epoch 86/100\n",
      " - 10s - loss: 0.4785 - acc: 0.7839\n",
      "Epoch 87/100\n",
      " - 11s - loss: 0.4785 - acc: 0.7840\n",
      "Epoch 88/100\n",
      " - 11s - loss: 0.4785 - acc: 0.7840\n",
      "Epoch 89/100\n",
      " - 11s - loss: 0.4785 - acc: 0.7841\n",
      "Epoch 90/100\n",
      " - 11s - loss: 0.4785 - acc: 0.7840\n",
      "Epoch 91/100\n",
      " - 11s - loss: 0.4786 - acc: 0.7840\n",
      "Epoch 92/100\n",
      " - 11s - loss: 0.4784 - acc: 0.7841\n",
      "Epoch 93/100\n",
      " - 11s - loss: 0.4785 - acc: 0.7838\n",
      "Epoch 94/100\n",
      " - 11s - loss: 0.4785 - acc: 0.7841\n",
      "Epoch 95/100\n",
      " - 11s - loss: 0.4785 - acc: 0.7840\n",
      "Epoch 96/100\n",
      " - 11s - loss: 0.4785 - acc: 0.7840\n",
      "Epoch 97/100\n",
      " - 11s - loss: 0.4785 - acc: 0.7840\n",
      "Epoch 98/100\n",
      " - 11s - loss: 0.4784 - acc: 0.7838\n",
      "Epoch 99/100\n",
      " - 11s - loss: 0.4784 - acc: 0.7842\n",
      "Epoch 100/100\n",
      " - 10s - loss: 0.4785 - acc: 0.7843\n"
     ]
    },
    {
     "data": {
      "text/plain": [
       "<tensorflow.python.keras.callbacks.History at 0x1a52448f28>"
      ]
     },
     "execution_count": 12,
     "metadata": {},
     "output_type": "execute_result"
    }
   ],
   "source": [
    "# RUN RUN RUN!\n",
    "deep_model_remake.compile(optimizer='adam',\n",
    "                   loss='categorical_crossentropy',\n",
    "                   metrics=['accuracy'])\n",
    "\n",
    "deep_model_remake.fit(\n",
    "    X_train_scaled_remake,\n",
    "    Y_train_categorical_remake,\n",
    "    epochs=100,\n",
    "    shuffle=True,\n",
    "    verbose=2)"
   ]
  },
  {
   "cell_type": "markdown",
   "metadata": {},
   "source": [
    "# Yet another model\n",
    "#### let's add another layer to try to get the accuracy up and the loss down\n",
    "#### This uses the same limited dataset, but adds another layer to the deep learning model with the hopes of getting the data to do better "
   ]
  },
  {
   "cell_type": "code",
   "execution_count": 13,
   "metadata": {},
   "outputs": [],
   "source": [
    "deep_model_remake2 = Sequential()\n",
    "deep_model_remake2.add(Dense(units=6, activation='relu', input_dim=10))\n",
    "deep_model_remake2.add(Dense(units=6, activation='relu'))\n",
    "deep_model_remake2.add(Dense(units=6, activation='relu'))\n",
    "deep_model_remake2.add(Dense(units=2, activation='softmax'))\n",
    "\n",
    "deep_model_remake2.summary()"
   ]
  },
  {
   "cell_type": "code",
   "execution_count": 15,
   "metadata": {},
   "outputs": [
    {
     "name": "stdout",
     "output_type": "stream",
     "text": [
      "Epoch 1/100\n",
      " - 13s - loss: 0.4907 - acc: 0.7818\n",
      "Epoch 2/100\n",
      " - 13s - loss: 0.4814 - acc: 0.7834\n",
      "Epoch 3/100\n",
      " - 13s - loss: 0.4806 - acc: 0.7835\n",
      "Epoch 4/100\n",
      " - 12s - loss: 0.4802 - acc: 0.7834\n",
      "Epoch 5/100\n",
      " - 13s - loss: 0.4799 - acc: 0.7837\n",
      "Epoch 6/100\n",
      " - 13s - loss: 0.4799 - acc: 0.7837\n",
      "Epoch 7/100\n",
      " - 12s - loss: 0.4798 - acc: 0.7836\n",
      "Epoch 8/100\n",
      " - 12s - loss: 0.4796 - acc: 0.7837\n",
      "Epoch 9/100\n",
      " - 12s - loss: 0.4794 - acc: 0.7836\n",
      "Epoch 10/100\n",
      " - 12s - loss: 0.4793 - acc: 0.7838\n",
      "Epoch 11/100\n",
      " - 12s - loss: 0.4792 - acc: 0.7836\n",
      "Epoch 12/100\n",
      " - 12s - loss: 0.4791 - acc: 0.7838\n",
      "Epoch 13/100\n",
      " - 12s - loss: 0.4790 - acc: 0.7836\n",
      "Epoch 14/100\n",
      " - 12s - loss: 0.4790 - acc: 0.7834\n",
      "Epoch 15/100\n",
      " - 12s - loss: 0.4789 - acc: 0.7834\n",
      "Epoch 16/100\n",
      " - 12s - loss: 0.4789 - acc: 0.7838\n",
      "Epoch 17/100\n",
      " - 12s - loss: 0.4789 - acc: 0.7837\n",
      "Epoch 18/100\n",
      " - 12s - loss: 0.4789 - acc: 0.7838\n",
      "Epoch 19/100\n",
      " - 12s - loss: 0.4789 - acc: 0.7836\n",
      "Epoch 20/100\n",
      " - 12s - loss: 0.4788 - acc: 0.7837\n",
      "Epoch 21/100\n",
      " - 13s - loss: 0.4789 - acc: 0.7839\n",
      "Epoch 22/100\n",
      " - 13s - loss: 0.4789 - acc: 0.7838\n",
      "Epoch 23/100\n",
      " - 13s - loss: 0.4788 - acc: 0.7838\n",
      "Epoch 24/100\n",
      " - 12s - loss: 0.4788 - acc: 0.7839\n",
      "Epoch 25/100\n",
      " - 12s - loss: 0.4788 - acc: 0.7837\n",
      "Epoch 26/100\n",
      " - 12s - loss: 0.4788 - acc: 0.7838\n",
      "Epoch 27/100\n",
      " - 12s - loss: 0.4788 - acc: 0.7837\n",
      "Epoch 28/100\n",
      " - 12s - loss: 0.4787 - acc: 0.7840\n",
      "Epoch 29/100\n",
      " - 12s - loss: 0.4787 - acc: 0.7839\n",
      "Epoch 30/100\n",
      " - 12s - loss: 0.4787 - acc: 0.7840\n",
      "Epoch 31/100\n",
      " - 12s - loss: 0.4788 - acc: 0.7839\n",
      "Epoch 32/100\n",
      " - 12s - loss: 0.4787 - acc: 0.7838\n",
      "Epoch 33/100\n",
      " - 12s - loss: 0.4787 - acc: 0.7842\n",
      "Epoch 34/100\n",
      " - 12s - loss: 0.4787 - acc: 0.7839\n",
      "Epoch 35/100\n",
      " - 12s - loss: 0.4787 - acc: 0.7841\n",
      "Epoch 36/100\n",
      " - 13s - loss: 0.4785 - acc: 0.7840\n",
      "Epoch 37/100\n",
      " - 12s - loss: 0.4787 - acc: 0.7839\n",
      "Epoch 38/100\n",
      " - 12s - loss: 0.4786 - acc: 0.7839\n",
      "Epoch 39/100\n",
      " - 13s - loss: 0.4786 - acc: 0.7842\n",
      "Epoch 40/100\n",
      " - 13s - loss: 0.4786 - acc: 0.7841\n",
      "Epoch 41/100\n",
      " - 12s - loss: 0.4785 - acc: 0.7843\n",
      "Epoch 42/100\n",
      " - 14s - loss: 0.4785 - acc: 0.7841\n",
      "Epoch 43/100\n",
      " - 14s - loss: 0.4786 - acc: 0.7839\n",
      "Epoch 44/100\n",
      " - 15s - loss: 0.4786 - acc: 0.7839\n",
      "Epoch 45/100\n",
      " - 14s - loss: 0.4786 - acc: 0.7841\n",
      "Epoch 46/100\n",
      " - 12s - loss: 0.4786 - acc: 0.7841\n",
      "Epoch 47/100\n",
      " - 12s - loss: 0.4785 - acc: 0.7840\n",
      "Epoch 48/100\n",
      " - 12s - loss: 0.4785 - acc: 0.7841\n",
      "Epoch 49/100\n",
      " - 13s - loss: 0.4785 - acc: 0.7839\n",
      "Epoch 50/100\n",
      " - 13s - loss: 0.4785 - acc: 0.7841\n",
      "Epoch 51/100\n",
      " - 13s - loss: 0.4785 - acc: 0.7839\n",
      "Epoch 52/100\n",
      " - 12s - loss: 0.4785 - acc: 0.7840\n",
      "Epoch 53/100\n",
      " - 13s - loss: 0.4785 - acc: 0.7840\n",
      "Epoch 54/100\n",
      " - 12s - loss: 0.4785 - acc: 0.7838\n",
      "Epoch 55/100\n",
      " - 12s - loss: 0.4785 - acc: 0.7840\n",
      "Epoch 56/100\n",
      " - 12s - loss: 0.4785 - acc: 0.7840\n",
      "Epoch 57/100\n",
      " - 12s - loss: 0.4785 - acc: 0.7841\n",
      "Epoch 58/100\n",
      " - 12s - loss: 0.4785 - acc: 0.7840\n",
      "Epoch 59/100\n",
      " - 12s - loss: 0.4785 - acc: 0.7840\n",
      "Epoch 60/100\n",
      " - 12s - loss: 0.4785 - acc: 0.7841\n",
      "Epoch 61/100\n",
      " - 12s - loss: 0.4784 - acc: 0.7840\n",
      "Epoch 62/100\n",
      " - 13s - loss: 0.4785 - acc: 0.7840\n",
      "Epoch 63/100\n",
      " - 13s - loss: 0.4785 - acc: 0.7841\n",
      "Epoch 64/100\n",
      " - 12s - loss: 0.4785 - acc: 0.7839\n",
      "Epoch 65/100\n",
      " - 12s - loss: 0.4785 - acc: 0.7840\n",
      "Epoch 66/100\n",
      " - 12s - loss: 0.4785 - acc: 0.7839\n",
      "Epoch 67/100\n",
      " - 12s - loss: 0.4785 - acc: 0.7841\n",
      "Epoch 68/100\n",
      " - 12s - loss: 0.4785 - acc: 0.7841\n",
      "Epoch 69/100\n",
      " - 12s - loss: 0.4785 - acc: 0.7842\n",
      "Epoch 70/100\n",
      " - 12s - loss: 0.4784 - acc: 0.7841\n",
      "Epoch 71/100\n",
      " - 12s - loss: 0.4785 - acc: 0.7842\n",
      "Epoch 72/100\n",
      " - 12s - loss: 0.4785 - acc: 0.7842\n",
      "Epoch 73/100\n",
      " - 12s - loss: 0.4784 - acc: 0.7842\n",
      "Epoch 74/100\n",
      " - 12s - loss: 0.4785 - acc: 0.7842\n",
      "Epoch 75/100\n",
      " - 13s - loss: 0.4785 - acc: 0.7842\n",
      "Epoch 76/100\n",
      " - 13s - loss: 0.4785 - acc: 0.7843\n",
      "Epoch 77/100\n",
      " - 12s - loss: 0.4785 - acc: 0.7842\n",
      "Epoch 78/100\n",
      " - 12s - loss: 0.4784 - acc: 0.7841\n",
      "Epoch 79/100\n",
      " - 12s - loss: 0.4784 - acc: 0.7842\n",
      "Epoch 80/100\n",
      " - 12s - loss: 0.4785 - acc: 0.7841\n",
      "Epoch 81/100\n",
      " - 12s - loss: 0.4784 - acc: 0.7839\n",
      "Epoch 82/100\n",
      " - 12s - loss: 0.4784 - acc: 0.7841\n",
      "Epoch 83/100\n",
      " - 12s - loss: 0.4785 - acc: 0.7842\n",
      "Epoch 84/100\n",
      " - 12s - loss: 0.4784 - acc: 0.7842\n",
      "Epoch 85/100\n",
      " - 12s - loss: 0.4785 - acc: 0.7840\n",
      "Epoch 86/100\n",
      " - 12s - loss: 0.4784 - acc: 0.7842\n",
      "Epoch 87/100\n",
      " - 13s - loss: 0.4784 - acc: 0.7839\n",
      "Epoch 88/100\n",
      " - 13s - loss: 0.4784 - acc: 0.7840\n",
      "Epoch 89/100\n",
      " - 13s - loss: 0.4784 - acc: 0.7841\n",
      "Epoch 90/100\n",
      " - 13s - loss: 0.4784 - acc: 0.7841\n",
      "Epoch 91/100\n",
      " - 12s - loss: 0.4784 - acc: 0.7843\n",
      "Epoch 92/100\n",
      " - 12s - loss: 0.4784 - acc: 0.7843\n",
      "Epoch 93/100\n",
      " - 13s - loss: 0.4784 - acc: 0.7844\n",
      "Epoch 94/100\n",
      " - 12s - loss: 0.4784 - acc: 0.7844\n",
      "Epoch 95/100\n",
      " - 12s - loss: 0.4785 - acc: 0.7842\n",
      "Epoch 96/100\n",
      " - 12s - loss: 0.4784 - acc: 0.7841\n",
      "Epoch 97/100\n",
      " - 12s - loss: 0.4784 - acc: 0.7843\n",
      "Epoch 98/100\n",
      " - 12s - loss: 0.4784 - acc: 0.7844\n",
      "Epoch 99/100\n",
      " - 12s - loss: 0.4784 - acc: 0.7843\n",
      "Epoch 100/100\n",
      " - 12s - loss: 0.4784 - acc: 0.7842\n"
     ]
    },
    {
     "data": {
      "text/plain": [
       "<tensorflow.python.keras.callbacks.History at 0x1a53e321d0>"
      ]
     },
     "execution_count": 15,
     "metadata": {},
     "output_type": "execute_result"
    }
   ],
   "source": [
    "deep_model_remake2.compile(optimizer='adam',\n",
    "                   loss='categorical_crossentropy',\n",
    "                   metrics=['accuracy'])\n",
    "\n",
    "deep_model_remake2.fit(\n",
    "    X_train_scaled_remake,\n",
    "    Y_train_categorical_remake,\n",
    "    epochs=100,\n",
    "    shuffle=True,\n",
    "    verbose=2)"
   ]
  },
  {
   "cell_type": "markdown",
   "metadata": {},
   "source": [
    "# And another model!\n",
    "This one changes the number of units in each layer. Maybe that'll help?"
   ]
  },
  {
   "cell_type": "code",
   "execution_count": null,
   "metadata": {},
   "outputs": [],
   "source": [
    "deep_model_remake3 = Sequential()\n",
    "deep_model_remake3.add(Dense(units=30, activation='relu', input_dim=10))\n",
    "deep_model_remake3.add(Dense(units=30, activation='relu'))\n",
    "deep_model_remake3.add(Dense(units=30, activation='relu'))\n",
    "deep_model_remake3.add(Dense(units=2, activation='softmax'))\n",
    "\n",
    "deep_model_remake3.summary()"
   ]
  },
  {
   "cell_type": "code",
   "execution_count": null,
   "metadata": {},
   "outputs": [],
   "source": [
    "deep_model_remake3.compile(optimizer='adam',\n",
    "                   loss='categorical_crossentropy',\n",
    "                   metrics=['accuracy'])\n",
    "\n",
    "deep_model_remake3.fit(\n",
    "    X_train_scaled_remake,\n",
    "    Y_train_categorical_remake,\n",
    "    epochs=100,\n",
    "    shuffle=True,\n",
    "    verbose=2)"
   ]
  },
  {
   "cell_type": "markdown",
   "metadata": {},
   "source": [
    "# Let's try a random forest so we can get some information on which variables may be of the greatest importance."
   ]
  },
  {
   "cell_type": "code",
   "execution_count": 10,
   "metadata": {},
   "outputs": [],
   "source": [
    "from sklearn.ensemble import RandomForestClassifier\n",
    "from sklearn.datasets import load_iris\n",
    "from sklearn.datasets import load_iris\n",
    "from sklearn import tree"
   ]
  },
  {
   "cell_type": "code",
   "execution_count": 21,
   "metadata": {},
   "outputs": [
    {
     "data": {
      "text/plain": [
       "1.0"
      ]
     },
     "execution_count": 21,
     "metadata": {},
     "output_type": "execute_result"
    }
   ],
   "source": [
    "rf = RandomForestClassifier(n_estimators=200)\n",
    "rf = rf.fit(X_train_scaled_remake, Y_train_categorical_remake)\n",
    "rf.score(X_train_scaled_remake, Y_train_categorical_remake)"
   ]
  },
  {
   "cell_type": "code",
   "execution_count": 25,
   "metadata": {},
   "outputs": [
    {
     "data": {
      "text/plain": [
       "1.0"
      ]
     },
     "execution_count": 25,
     "metadata": {},
     "output_type": "execute_result"
    }
   ],
   "source": [
    "puppy = tree.DecisionTreeClassifier()\n",
    "puppy = puppy.fit(X_train_scaled_remake, Y_train_categorical_remake)\n",
    "puppy.score(X_train_scaled_remake, Y_train_categorical_remake)"
   ]
  },
  {
   "cell_type": "code",
   "execution_count": 26,
   "metadata": {},
   "outputs": [
    {
     "data": {
      "text/plain": [
       "array([0.13894127, 0.10153158, 0.12854172, 0.16441935, 0.01920979,\n",
       "       0.09915146, 0.08813683, 0.07247583, 0.01546972, 0.17212243])"
      ]
     },
     "execution_count": 26,
     "metadata": {},
     "output_type": "execute_result"
    }
   ],
   "source": [
    "# Random Forests in sklearn will automatically calculate feature importance\n",
    "importances = puppy.feature_importances_\n",
    "importances"
   ]
  },
  {
   "cell_type": "code",
   "execution_count": 27,
   "metadata": {},
   "outputs": [
    {
     "data": {
      "text/plain": [
       "[(0.17212243419365747, 'total_bal_ex_mort'),\n",
       " (0.16441935464494556, 'dti'),\n",
       " (0.13894127229138456, 'int_rate'),\n",
       " (0.12854172332202599, 'annual_inc'),\n",
       " (0.10153158194982906, 'loan_amnt'),\n",
       " (0.09915146153869298, 'total_acc'),\n",
       " (0.08813682766613534, 'open_acc'),\n",
       " (0.07247583030105688, 'pct_tl_nvr_dlq'),\n",
       " (0.01920978979316624, 'delinq_2yrs'),\n",
       " (0.015469724299105907, 'pub_rec_bankruptcies')]"
      ]
     },
     "execution_count": 27,
     "metadata": {},
     "output_type": "execute_result"
    }
   ],
   "source": [
    "# We can sort the features by their importance\n",
    "sorted(zip(puppy.feature_importances_, LC_X_remake.columns), reverse=True)"
   ]
  },
  {
   "cell_type": "code",
   "execution_count": 1,
   "metadata": {
    "scrolled": true
   },
   "outputs": [],
   "source": [
    "# Only run the cell below IF YOU HAVE 45-60 Minutes to wait for a useless picture!!!"
   ]
  },
  {
   "cell_type": "code",
   "execution_count": 2,
   "metadata": {},
   "outputs": [],
   "source": [
    "# import graphviz \n",
    "# dot_data = tree.export_graphviz(puppy, out_file=None, \n",
    "#                      feature_names=LC_X_remake.columns,  \n",
    "#                      class_names=levels,  \n",
    "#                      filled=True, rounded=True,  \n",
    "#                      special_characters=True)  \n",
    "# graph = graphviz.Source(dot_data)  \n",
    "# graph.render(\"iris\")"
   ]
  },
  {
   "cell_type": "markdown",
   "metadata": {},
   "source": [
    "# The random forest plot did give us some information that we can use. Let's start to widdle our predictors down based on how useful they are in the actual model for explaining variance"
   ]
  },
  {
   "cell_type": "markdown",
   "metadata": {},
   "source": [
    "# Let's see what happens if we only do 8 variables in the model\n",
    "#### it could be that we have hit a performance plateau since both our models were able to get 78% accuracy"
   ]
  },
  {
   "cell_type": "code",
   "execution_count": 25,
   "metadata": {},
   "outputs": [],
   "source": [
    "# NEED TO REMAKE THE X-MATRIX\n",
    "LC_X_remake8 = LC[['int_rate', 'loan_amnt', 'annual_inc', 'dti', 'total_acc', 'open_acc',\n",
    "           'pct_tl_nvr_dlq', 'total_bal_ex_mort']].copy()\n",
    "\n",
    "# Then create the training and text data\n",
    "X_train_remake8, X_test_remake8, Y_train_remake8, Y_test_remake8 = train_test_split(LC_X_remake8, \n",
    "                                                                                    LC_Y_cat, random_state=1)\n"
   ]
  },
  {
   "cell_type": "code",
   "execution_count": 26,
   "metadata": {},
   "outputs": [],
   "source": [
    "# Transform the training and testing data using the X_scaler\n",
    "X_scaler_remake8 = StandardScaler().fit(X_train_remake8)\n",
    "\n",
    "X_train_scaled_remake8 = X_scaler_remake8.transform(X_train_remake8)\n",
    "X_test_scaled_remake8 = X_scaler_remake8.transform(X_test_remake8)\n",
    "\n",
    "Y_train_categorical_remake8 = to_categorical(Y_train_remake8)\n",
    "Y_test_categorical_remake8 = to_categorical(Y_test_remake8)"
   ]
  },
  {
   "cell_type": "code",
   "execution_count": 30,
   "metadata": {},
   "outputs": [],
   "source": [
    "deep_model_remake8 = Sequential()\n",
    "deep_model_remake8.add(Dense(units=6, activation='relu', input_dim=8))\n",
    "deep_model_remake8.add(Dense(units=6, activation='relu'))\n",
    "deep_model_remake8.add(Dense(units=6, activation='relu'))\n",
    "deep_model_remake8.add(Dense(units=2, activation='softmax'))\n",
    "\n",
    "deep_model_remake8.summary()"
   ]
  },
  {
   "cell_type": "code",
   "execution_count": 32,
   "metadata": {},
   "outputs": [
    {
     "name": "stdout",
     "output_type": "stream",
     "text": [
      "Epoch 1/100\n",
      " - 13s - loss: 0.4926 - acc: 0.7804\n",
      "Epoch 2/100\n",
      " - 12s - loss: 0.4821 - acc: 0.7827\n",
      "Epoch 3/100\n",
      " - 13s - loss: 0.4811 - acc: 0.7827\n",
      "Epoch 4/100\n",
      " - 12s - loss: 0.4806 - acc: 0.7827\n",
      "Epoch 5/100\n",
      " - 13s - loss: 0.4803 - acc: 0.7827\n",
      "Epoch 6/100\n",
      " - 13s - loss: 0.4801 - acc: 0.7835\n",
      "Epoch 7/100\n",
      " - 12s - loss: 0.4799 - acc: 0.7838\n",
      "Epoch 8/100\n",
      " - 14s - loss: 0.4798 - acc: 0.7838\n",
      "Epoch 9/100\n",
      " - 12s - loss: 0.4797 - acc: 0.7836\n",
      "Epoch 10/100\n",
      " - 12s - loss: 0.4796 - acc: 0.7836\n",
      "Epoch 11/100\n",
      " - 12s - loss: 0.4795 - acc: 0.7837\n",
      "Epoch 12/100\n",
      " - 12s - loss: 0.4795 - acc: 0.7839\n",
      "Epoch 13/100\n",
      " - 12s - loss: 0.4795 - acc: 0.7836\n",
      "Epoch 14/100\n",
      " - 13s - loss: 0.4793 - acc: 0.7839\n",
      "Epoch 15/100\n",
      " - 16s - loss: 0.4793 - acc: 0.7838\n",
      "Epoch 16/100\n",
      " - 15s - loss: 0.4793 - acc: 0.7839\n",
      "Epoch 17/100\n",
      " - 14s - loss: 0.4794 - acc: 0.7840\n",
      "Epoch 18/100\n",
      " - 13s - loss: 0.4793 - acc: 0.7837\n",
      "Epoch 19/100\n",
      " - 13s - loss: 0.4794 - acc: 0.7836\n",
      "Epoch 20/100\n",
      " - 13s - loss: 0.4793 - acc: 0.7837\n",
      "Epoch 21/100\n",
      " - 13s - loss: 0.4794 - acc: 0.7840\n",
      "Epoch 22/100\n",
      " - 13s - loss: 0.4792 - acc: 0.7837\n",
      "Epoch 23/100\n",
      " - 15s - loss: 0.4793 - acc: 0.7837\n",
      "Epoch 24/100\n",
      " - 12s - loss: 0.4793 - acc: 0.7838\n",
      "Epoch 25/100\n",
      " - 13s - loss: 0.4793 - acc: 0.7838\n",
      "Epoch 26/100\n",
      " - 14s - loss: 0.4792 - acc: 0.7838\n",
      "Epoch 27/100\n",
      " - 14s - loss: 0.4792 - acc: 0.7837\n",
      "Epoch 28/100\n",
      " - 13s - loss: 0.4792 - acc: 0.7839\n",
      "Epoch 29/100\n",
      " - 12s - loss: 0.4792 - acc: 0.7842\n",
      "Epoch 30/100\n",
      " - 12s - loss: 0.4793 - acc: 0.7840\n",
      "Epoch 31/100\n",
      " - 12s - loss: 0.4793 - acc: 0.7839\n",
      "Epoch 32/100\n",
      " - 12s - loss: 0.4792 - acc: 0.7838\n",
      "Epoch 33/100\n",
      " - 12s - loss: 0.4791 - acc: 0.7839\n",
      "Epoch 34/100\n",
      " - 13s - loss: 0.4792 - acc: 0.7838\n",
      "Epoch 35/100\n",
      " - 12s - loss: 0.4791 - acc: 0.7843\n",
      "Epoch 36/100\n",
      " - 12s - loss: 0.4792 - acc: 0.7841\n",
      "Epoch 37/100\n",
      " - 13s - loss: 0.4792 - acc: 0.7841\n",
      "Epoch 38/100\n",
      " - 13s - loss: 0.4791 - acc: 0.7840\n",
      "Epoch 39/100\n",
      " - 12s - loss: 0.4791 - acc: 0.7840\n",
      "Epoch 40/100\n",
      " - 13s - loss: 0.4792 - acc: 0.7839\n",
      "Epoch 41/100\n",
      " - 13s - loss: 0.4791 - acc: 0.7841\n",
      "Epoch 42/100\n",
      " - 13s - loss: 0.4791 - acc: 0.7839\n",
      "Epoch 43/100\n",
      " - 13s - loss: 0.4791 - acc: 0.7844\n",
      "Epoch 44/100\n",
      " - 13s - loss: 0.4792 - acc: 0.7841\n",
      "Epoch 45/100\n",
      " - 13s - loss: 0.4790 - acc: 0.7838\n",
      "Epoch 46/100\n",
      " - 14s - loss: 0.4792 - acc: 0.7840\n",
      "Epoch 47/100\n",
      " - 14s - loss: 0.4790 - acc: 0.7840\n",
      "Epoch 48/100\n",
      " - 13s - loss: 0.4791 - acc: 0.7840\n",
      "Epoch 49/100\n",
      " - 14s - loss: 0.4791 - acc: 0.7838\n",
      "Epoch 50/100\n",
      " - 13s - loss: 0.4791 - acc: 0.7842\n",
      "Epoch 51/100\n",
      " - 12s - loss: 0.4791 - acc: 0.7841\n",
      "Epoch 52/100\n",
      " - 13s - loss: 0.4791 - acc: 0.7840\n",
      "Epoch 53/100\n",
      " - 13s - loss: 0.4791 - acc: 0.7840\n",
      "Epoch 54/100\n",
      " - 13s - loss: 0.4791 - acc: 0.7840\n",
      "Epoch 55/100\n",
      " - 14s - loss: 0.4791 - acc: 0.7839\n",
      "Epoch 56/100\n",
      " - 13s - loss: 0.4790 - acc: 0.7839\n",
      "Epoch 57/100\n",
      " - 13s - loss: 0.4790 - acc: 0.7841\n",
      "Epoch 58/100\n",
      " - 12s - loss: 0.4791 - acc: 0.7840\n",
      "Epoch 59/100\n",
      " - 13s - loss: 0.4790 - acc: 0.7841\n",
      "Epoch 60/100\n",
      " - 13s - loss: 0.4791 - acc: 0.7842\n",
      "Epoch 61/100\n",
      " - 12s - loss: 0.4790 - acc: 0.7840\n",
      "Epoch 62/100\n",
      " - 12s - loss: 0.4790 - acc: 0.7840\n",
      "Epoch 63/100\n",
      " - 12s - loss: 0.4790 - acc: 0.7840\n",
      "Epoch 64/100\n",
      " - 12s - loss: 0.4789 - acc: 0.7840\n",
      "Epoch 65/100\n",
      " - 12s - loss: 0.4790 - acc: 0.7841\n",
      "Epoch 66/100\n",
      " - 12s - loss: 0.4790 - acc: 0.7840\n",
      "Epoch 67/100\n",
      " - 12s - loss: 0.4789 - acc: 0.7843\n",
      "Epoch 68/100\n",
      " - 12s - loss: 0.4789 - acc: 0.7841\n",
      "Epoch 69/100\n",
      " - 12s - loss: 0.4791 - acc: 0.7840\n",
      "Epoch 70/100\n",
      " - 12s - loss: 0.4790 - acc: 0.7842\n",
      "Epoch 71/100\n",
      " - 12s - loss: 0.4789 - acc: 0.7839\n",
      "Epoch 72/100\n",
      " - 12s - loss: 0.4789 - acc: 0.7842\n",
      "Epoch 73/100\n",
      " - 13s - loss: 0.4789 - acc: 0.7841\n",
      "Epoch 74/100\n",
      " - 13s - loss: 0.4790 - acc: 0.7842\n",
      "Epoch 75/100\n",
      " - 12s - loss: 0.4790 - acc: 0.7840\n",
      "Epoch 76/100\n",
      " - 12s - loss: 0.4789 - acc: 0.7841\n",
      "Epoch 77/100\n",
      " - 13s - loss: 0.4790 - acc: 0.7840\n",
      "Epoch 78/100\n",
      " - 12s - loss: 0.4790 - acc: 0.7840\n",
      "Epoch 79/100\n",
      " - 12s - loss: 0.4790 - acc: 0.7839\n",
      "Epoch 80/100\n",
      " - 12s - loss: 0.4788 - acc: 0.7843\n",
      "Epoch 81/100\n",
      " - 12s - loss: 0.4789 - acc: 0.7842\n",
      "Epoch 82/100\n",
      " - 12s - loss: 0.4789 - acc: 0.7838\n",
      "Epoch 83/100\n",
      " - 12s - loss: 0.4789 - acc: 0.7841\n",
      "Epoch 84/100\n",
      " - 12s - loss: 0.4788 - acc: 0.7841\n",
      "Epoch 85/100\n",
      " - 12s - loss: 0.4789 - acc: 0.7842\n",
      "Epoch 86/100\n",
      " - 12s - loss: 0.4788 - acc: 0.7842\n",
      "Epoch 87/100\n",
      " - 12s - loss: 0.4789 - acc: 0.7840\n",
      "Epoch 88/100\n",
      " - 12s - loss: 0.4789 - acc: 0.7840\n",
      "Epoch 89/100\n",
      " - 12s - loss: 0.4788 - acc: 0.7843\n",
      "Epoch 90/100\n",
      " - 13s - loss: 0.4789 - acc: 0.7839\n",
      "Epoch 91/100\n",
      " - 13s - loss: 0.4789 - acc: 0.7843\n",
      "Epoch 92/100\n",
      " - 13s - loss: 0.4789 - acc: 0.7841\n",
      "Epoch 93/100\n",
      " - 13s - loss: 0.4787 - acc: 0.7841\n",
      "Epoch 94/100\n",
      " - 13s - loss: 0.4789 - acc: 0.7843\n",
      "Epoch 95/100\n",
      " - 14s - loss: 0.4788 - acc: 0.7844\n",
      "Epoch 96/100\n",
      " - 12s - loss: 0.4789 - acc: 0.7840\n",
      "Epoch 97/100\n",
      " - 13s - loss: 0.4789 - acc: 0.7841\n",
      "Epoch 98/100\n",
      " - 13s - loss: 0.4788 - acc: 0.7841\n",
      "Epoch 99/100\n",
      " - 13s - loss: 0.4788 - acc: 0.7843\n",
      "Epoch 100/100\n",
      " - 13s - loss: 0.4788 - acc: 0.7839\n"
     ]
    },
    {
     "data": {
      "text/plain": [
       "<tensorflow.python.keras.callbacks.History at 0x1a5b9b3400>"
      ]
     },
     "execution_count": 32,
     "metadata": {},
     "output_type": "execute_result"
    }
   ],
   "source": [
    "deep_model_remake8.compile(optimizer='adam',\n",
    "                   loss='categorical_crossentropy',\n",
    "                   metrics=['accuracy'])\n",
    "\n",
    "deep_model_remake8.fit(\n",
    "    X_train_scaled_remake8,\n",
    "    Y_train_categorical_remake8,\n",
    "    epochs=100,\n",
    "    shuffle=True,\n",
    "    verbose=2)"
   ]
  },
  {
   "cell_type": "markdown",
   "metadata": {},
   "source": [
    "### Let's also look at the probabilities for each instance. How likely are they to be be charged off or a paid fully?\n",
    "#### the first number will be probability of \"Charged Off\" and the second will be the probability of \"Fully Paid\""
   ]
  },
  {
   "cell_type": "code",
   "execution_count": 33,
   "metadata": {},
   "outputs": [
    {
     "name": "stdout",
     "output_type": "stream",
     "text": [
      " - 1s\n"
     ]
    },
    {
     "data": {
      "text/plain": [
       "array([[0.22897516, 0.7710248 ],\n",
       "       [0.2535477 , 0.7464523 ],\n",
       "       [0.37220138, 0.6277986 ],\n",
       "       ...,\n",
       "       [0.3171849 , 0.6828151 ],\n",
       "       [0.31307566, 0.68692434],\n",
       "       [0.13353716, 0.8664628 ]], dtype=float32)"
      ]
     },
     "execution_count": 33,
     "metadata": {},
     "output_type": "execute_result"
    }
   ],
   "source": [
    "deep_model_remake8.predict_proba(X_test_scaled_remake8,\n",
    "    batch_size=32,\n",
    "    verbose=2)"
   ]
  },
  {
   "cell_type": "markdown",
   "metadata": {},
   "source": [
    "# OKAY! \n",
    "### That did nothing for our model performance. Going down to 6 predictors just to see"
   ]
  },
  {
   "cell_type": "code",
   "execution_count": 35,
   "metadata": {},
   "outputs": [],
   "source": [
    "# NEED TO REMAKE THE X-MATRIX\n",
    "LC_X_remake6= LC[['int_rate', 'loan_amnt', 'annual_inc', 'dti', 'total_acc', 'total_bal_ex_mort']].copy()\n",
    "\n",
    "# Then create the training and text data\n",
    "X_train_remake6, X_test_remake6, Y_train_remake6, Y_test_remake6 = train_test_split(LC_X_remake6, \n",
    "                                                                                    LC_Y_cat, random_state=1)\n"
   ]
  },
  {
   "cell_type": "code",
   "execution_count": 36,
   "metadata": {},
   "outputs": [],
   "source": [
    "# Transform the training and testing data using the X_scaler\n",
    "X_scaler_remake6 = StandardScaler().fit(X_train_remake6)\n",
    "\n",
    "X_train_scaled_remake6 = X_scaler_remake6.transform(X_train_remake6)\n",
    "X_test_scaled_remake6 = X_scaler_remake6.transform(X_test_remake6)\n",
    "\n",
    "Y_train_categorical_remake6 = to_categorical(Y_train_remake6)\n",
    "Y_test_categorical_remake6 = to_categorical(Y_test_remake6)"
   ]
  },
  {
   "cell_type": "code",
   "execution_count": 61,
   "metadata": {},
   "outputs": [
    {
     "name": "stdout",
     "output_type": "stream",
     "text": [
      "_________________________________________________________________\n",
      "Layer (type)                 Output Shape              Param #   \n",
      "=================================================================\n",
      "dense_28 (Dense)             (None, 18)                126       \n",
      "_________________________________________________________________\n",
      "dense_29 (Dense)             (None, 18)                342       \n",
      "_________________________________________________________________\n",
      "dense_30 (Dense)             (None, 2)                 38        \n",
      "=================================================================\n",
      "Total params: 506\n",
      "Trainable params: 506\n",
      "Non-trainable params: 0\n",
      "_________________________________________________________________\n"
     ]
    }
   ],
   "source": [
    "deep_model_remake6 = Sequential()\n",
    "deep_model_remake6.add(Dense(units=18, activation='relu', input_dim=6))\n",
    "deep_model_remake6.add(Dense(units=18, activation='relu'))\n",
    "deep_model_remake6.add(Dense(units=2, activation='softmax'))\n",
    "\n",
    "deep_model_remake6.summary()"
   ]
  },
  {
   "cell_type": "code",
   "execution_count": null,
   "metadata": {},
   "outputs": [],
   "source": [
    "deep_model_remake6.compile(optimizer='adam',\n",
    "                   loss='categorical_crossentropy',\n",
    "                   metrics=['accuracy'])\n",
    "\n",
    "deep_model_remake6.fit(\n",
    "    X_train_scaled_remake6,\n",
    "    Y_train_categorical_remake6,\n",
    "    epochs=100,\n",
    "    shuffle=True,\n",
    "    verbose=2)"
   ]
  },
  {
   "cell_type": "code",
   "execution_count": null,
   "metadata": {},
   "outputs": [],
   "source": [
    "# And again, let's predict each outcome\n",
    "deep_model_remake6.predict_proba(X_test_scaled_remake6,\n",
    "    batch_size=32,\n",
    "    verbose=2)"
   ]
  },
  {
   "cell_type": "markdown",
   "metadata": {},
   "source": [
    "# 3 Predictor model?"
   ]
  },
  {
   "cell_type": "code",
   "execution_count": 55,
   "metadata": {},
   "outputs": [],
   "source": [
    "# NEED TO REMAKE THE X-MATRIX\n",
    "LC_X_remake3p= LC[['int_rate', 'dti','total_bal_ex_mort']].copy()\n",
    "\n",
    "# Then create the training and text data\n",
    "X_train_remake3p, X_test_remake3p, Y_train_remake3p, Y_test_remake3p = train_test_split(LC_X_remake3p, \n",
    "                                                                                    LC_Y_cat, random_state=1)\n"
   ]
  },
  {
   "cell_type": "code",
   "execution_count": 58,
   "metadata": {},
   "outputs": [],
   "source": [
    "# Transform the training and testing data using the X_scaler\n",
    "X_scaler_remake3p = StandardScaler().fit(X_train_remake3p)\n",
    "\n",
    "X_train_scaled_remake3p = X_scaler_remake3p.transform(X_train_remake3p)\n",
    "X_test_scaled_remake3p = X_scaler_remake3p.transform(X_test_remake3p)\n",
    "\n",
    "Y_train_categorical_remake3p = to_categorical(Y_train_remake3p)\n",
    "Y_test_categorical_remake3p = to_categorical(Y_test_remake3p)"
   ]
  },
  {
   "cell_type": "code",
   "execution_count": 68,
   "metadata": {},
   "outputs": [
    {
     "name": "stdout",
     "output_type": "stream",
     "text": [
      "_________________________________________________________________\n",
      "Layer (type)                 Output Shape              Param #   \n",
      "=================================================================\n",
      "dense_40 (Dense)             (None, 9)                 36        \n",
      "_________________________________________________________________\n",
      "dense_41 (Dense)             (None, 9)                 90        \n",
      "_________________________________________________________________\n",
      "dense_42 (Dense)             (None, 2)                 20        \n",
      "=================================================================\n",
      "Total params: 146\n",
      "Trainable params: 146\n",
      "Non-trainable params: 0\n",
      "_________________________________________________________________\n"
     ]
    }
   ],
   "source": [
    "deep_model_remake3p = Sequential()\n",
    "deep_model_remake3p.add(Dense(units=9, activation='relu', input_dim=3))\n",
    "deep_model_remake3p.add(Dense(units=9, activation='relu'))\n",
    "deep_model_remake3p.add(Dense(units=2, activation='softmax'))\n",
    "\n",
    "deep_model_remake3p.summary()"
   ]
  },
  {
   "cell_type": "code",
   "execution_count": 70,
   "metadata": {},
   "outputs": [
    {
     "name": "stdout",
     "output_type": "stream",
     "text": [
      "Epoch 1/50\n",
      " - 12s - loss: 0.4910 - acc: 0.7822\n",
      "Epoch 2/50\n",
      " - 11s - loss: 0.4866 - acc: 0.7830\n",
      "Epoch 3/50\n",
      " - 11s - loss: 0.4864 - acc: 0.7829\n",
      "Epoch 4/50\n",
      " - 11s - loss: 0.4864 - acc: 0.7830\n",
      "Epoch 5/50\n",
      " - 11s - loss: 0.4862 - acc: 0.7831\n",
      "Epoch 6/50\n",
      " - 11s - loss: 0.4862 - acc: 0.7829\n",
      "Epoch 7/50\n",
      " - 11s - loss: 0.4862 - acc: 0.7830\n",
      "Epoch 8/50\n",
      " - 11s - loss: 0.4861 - acc: 0.7829\n",
      "Epoch 9/50\n",
      " - 13s - loss: 0.4862 - acc: 0.7834\n",
      "Epoch 10/50\n",
      " - 14s - loss: 0.4861 - acc: 0.7829\n",
      "Epoch 11/50\n",
      " - 12s - loss: 0.4861 - acc: 0.7829\n",
      "Epoch 12/50\n",
      " - 11s - loss: 0.4861 - acc: 0.7830\n",
      "Epoch 13/50\n",
      " - 11s - loss: 0.4860 - acc: 0.7829\n",
      "Epoch 14/50\n",
      " - 11s - loss: 0.4860 - acc: 0.7833\n",
      "Epoch 15/50\n",
      " - 12s - loss: 0.4860 - acc: 0.7830\n",
      "Epoch 16/50\n",
      " - 13s - loss: 0.4859 - acc: 0.7829\n",
      "Epoch 17/50\n",
      " - 12s - loss: 0.4860 - acc: 0.7833\n",
      "Epoch 18/50\n",
      " - 11s - loss: 0.4860 - acc: 0.7832\n",
      "Epoch 19/50\n",
      " - 11s - loss: 0.4859 - acc: 0.7831\n",
      "Epoch 20/50\n",
      " - 11s - loss: 0.4860 - acc: 0.7833\n",
      "Epoch 21/50\n",
      " - 11s - loss: 0.4859 - acc: 0.7830\n",
      "Epoch 22/50\n",
      " - 11s - loss: 0.4859 - acc: 0.7831\n",
      "Epoch 23/50\n",
      " - 11s - loss: 0.4859 - acc: 0.7832\n",
      "Epoch 24/50\n",
      " - 12s - loss: 0.4859 - acc: 0.7833\n",
      "Epoch 25/50\n",
      " - 11s - loss: 0.4859 - acc: 0.7832\n",
      "Epoch 26/50\n",
      " - 11s - loss: 0.4859 - acc: 0.7830\n",
      "Epoch 27/50\n",
      " - 11s - loss: 0.4858 - acc: 0.7830\n",
      "Epoch 28/50\n",
      " - 11s - loss: 0.4859 - acc: 0.7834\n",
      "Epoch 29/50\n",
      " - 11s - loss: 0.4858 - acc: 0.7833\n",
      "Epoch 30/50\n",
      " - 12s - loss: 0.4858 - acc: 0.7832\n",
      "Epoch 31/50\n",
      " - 11s - loss: 0.4859 - acc: 0.7830\n",
      "Epoch 32/50\n",
      " - 11s - loss: 0.4859 - acc: 0.7832\n",
      "Epoch 33/50\n",
      " - 11s - loss: 0.4859 - acc: 0.7831\n",
      "Epoch 34/50\n",
      " - 11s - loss: 0.4858 - acc: 0.7835\n",
      "Epoch 35/50\n",
      " - 11s - loss: 0.4858 - acc: 0.7834\n",
      "Epoch 36/50\n",
      " - 11s - loss: 0.4858 - acc: 0.7832\n",
      "Epoch 37/50\n",
      " - 11s - loss: 0.4858 - acc: 0.7832\n",
      "Epoch 38/50\n",
      " - 11s - loss: 0.4858 - acc: 0.7833\n",
      "Epoch 39/50\n",
      " - 11s - loss: 0.4858 - acc: 0.7832\n",
      "Epoch 40/50\n",
      " - 11s - loss: 0.4858 - acc: 0.7834\n",
      "Epoch 41/50\n",
      " - 12s - loss: 0.4858 - acc: 0.7831\n",
      "Epoch 42/50\n",
      " - 12s - loss: 0.4858 - acc: 0.7832\n",
      "Epoch 43/50\n",
      " - 12s - loss: 0.4857 - acc: 0.7832\n",
      "Epoch 44/50\n",
      " - 11s - loss: 0.4858 - acc: 0.7833\n",
      "Epoch 45/50\n",
      " - 11s - loss: 0.4858 - acc: 0.7830\n",
      "Epoch 46/50\n",
      " - 11s - loss: 0.4858 - acc: 0.7833\n",
      "Epoch 47/50\n",
      " - 11s - loss: 0.4857 - acc: 0.7832\n",
      "Epoch 48/50\n",
      " - 11s - loss: 0.4857 - acc: 0.7832\n",
      "Epoch 49/50\n",
      " - 12s - loss: 0.4857 - acc: 0.7832\n",
      "Epoch 50/50\n",
      " - 11s - loss: 0.4857 - acc: 0.7833\n"
     ]
    },
    {
     "data": {
      "text/plain": [
       "<tensorflow.python.keras.callbacks.History at 0x1a6cf24940>"
      ]
     },
     "execution_count": 70,
     "metadata": {},
     "output_type": "execute_result"
    }
   ],
   "source": [
    "deep_model_remake3p.compile(optimizer='adam',\n",
    "                   loss='categorical_crossentropy',\n",
    "                   metrics=['accuracy'])\n",
    "\n",
    "deep_model_remake3p.fit(\n",
    "    X_train_scaled_remake3p,\n",
    "    Y_train_categorical_remake3p,\n",
    "    epochs=50,\n",
    "    shuffle=True,\n",
    "    verbose=2)"
   ]
  },
  {
   "cell_type": "code",
   "execution_count": 71,
   "metadata": {},
   "outputs": [
    {
     "name": "stdout",
     "output_type": "stream",
     "text": [
      " - 1s\n"
     ]
    },
    {
     "data": {
      "text/plain": [
       "array([[0.6541528 , 0.34584722],\n",
       "       [0.29476583, 0.70523417],\n",
       "       [0.62546283, 0.37453717],\n",
       "       ...,\n",
       "       [0.48484823, 0.51515174],\n",
       "       [0.5791336 , 0.42086634],\n",
       "       [0.38080683, 0.6191932 ]], dtype=float32)"
      ]
     },
     "execution_count": 71,
     "metadata": {},
     "output_type": "execute_result"
    }
   ],
   "source": [
    "deep_model_remake6.predict_proba(X_test_scaled_remake6,\n",
    "    batch_size=32,\n",
    "    verbose=2)"
   ]
  },
  {
   "cell_type": "markdown",
   "metadata": {},
   "source": [
    "# Compare the models below"
   ]
  },
  {
   "cell_type": "code",
   "execution_count": 9,
   "metadata": {},
   "outputs": [
    {
     "ename": "NameError",
     "evalue": "name 'model_all' is not defined",
     "output_type": "error",
     "traceback": [
      "\u001b[0;31m---------------------------------------------------------------------------\u001b[0m",
      "\u001b[0;31mNameError\u001b[0m                                 Traceback (most recent call last)",
      "\u001b[0;32m<ipython-input-9-2e86b1693e80>\u001b[0m in \u001b[0;36m<module>\u001b[0;34m\u001b[0m\n\u001b[0;32m----> 1\u001b[0;31m model_loss, model_accuracy = model_all.evaluate(\n\u001b[0m\u001b[1;32m      2\u001b[0m     X_test_scaled, Y_test_categorical, verbose=27)\n\u001b[1;32m      3\u001b[0m print(\n\u001b[1;32m      4\u001b[0m     f\"Normal Neural Network - Loss: {model_loss}, Accuracy: {model_accuracy}\")\n",
      "\u001b[0;31mNameError\u001b[0m: name 'model_all' is not defined"
     ]
    }
   ],
   "source": [
    "model_loss, model_accuracy = model_all.evaluate(\n",
    "    X_test_scaled, Y_test_categorical, verbose=2)\n",
    "print(\n",
    "    f\"Normal Neural Network - Loss: {model_loss}, Accuracy: {model_accuracy}\")"
   ]
  },
  {
   "cell_type": "code",
   "execution_count": 16,
   "metadata": {},
   "outputs": [
    {
     "name": "stdout",
     "output_type": "stream",
     "text": [
      "Deep Neural Network - Loss: 0.4753891135798912, Accuracy: 0.7852221131324768\n"
     ]
    }
   ],
   "source": [
    "deep_model_loss, deep_model_accuracy = deep_model_all.evaluate(\n",
    "    X_test_scaled, Y_test_categorical_remake, verbose=2)\n",
    "print(f\"Deep Neural Network with limited columns - Loss: {deep_model_remake_loss}, Accuracy: {deep_model_remake_accuracy}\")"
   ]
  },
  {
   "cell_type": "code",
   "execution_count": 53,
   "metadata": {},
   "outputs": [
    {
     "name": "stdout",
     "output_type": "stream",
     "text": [
      "Deep Neural Network - Loss: 0.4810933615025697, Accuracy: 0.784142255783081\n"
     ]
    }
   ],
   "source": [
    "deep_model_remake_loss, deep_model_remake_accuracy = deep_model_remake.evaluate(\n",
    "    X_test_scaled_remake, Y_test_categorical_remake, verbose=2)\n",
    "print(f\"Deep Neural Network - Loss: {deep_model_remake_loss}, Accuracy: {deep_model_remake_accuracy}\")"
   ]
  },
  {
   "cell_type": "code",
   "execution_count": 54,
   "metadata": {},
   "outputs": [
    {
     "name": "stdout",
     "output_type": "stream",
     "text": [
      "Deep Neural Network - Loss: 0.4805595624580498, Accuracy: 0.7838380336761475\n"
     ]
    }
   ],
   "source": [
    "deep_model_remake2_loss, deep_model_remake2_accuracy = deep_model_remake2.evaluate(\n",
    "    X_test_scaled_remake, Y_test_categorical_remake, verbose=2)\n",
    "print(f\"Deep Neural Network - Loss: {deep_model_remake2_loss}, Accuracy: {deep_model_remake2_accuracy}\")"
   ]
  },
  {
   "cell_type": "code",
   "execution_count": 42,
   "metadata": {},
   "outputs": [
    {
     "name": "stdout",
     "output_type": "stream",
     "text": [
      "Deep Neural Network - Loss: 0.48323890313483236, Accuracy: 0.7824843525886536\n"
     ]
    }
   ],
   "source": [
    "deep_model_remake3_loss, deep_model_remake3_accuracy = deep_model_remake3.evaluate(\n",
    "    X_test_scaled_remake, Y_test_categorical_remake, verbose=2)\n",
    "print(f\"Deep Neural Network - Loss: {deep_model_remake3_loss}, Accuracy: {deep_model_remake3_accuracy}\")"
   ]
  },
  {
   "cell_type": "code",
   "execution_count": 55,
   "metadata": {},
   "outputs": [],
   "source": [
    "# Save the model\n",
    "# Not all the models above are saved here. but you can save whichever ones you want!\n",
    "model_all.save(\"All27_model_trained.h5\")\n",
    "deep_model_all.save(\"All27_Deepmodel_trained.h5\")\n",
    "deep_model_remake.save(\"10Columns_DeepModel_trained.h5\")\n",
    "deep_model_remake2.save(\"10Columns_DeepModel2_trained.h5\")\n",
    "deep_model_remake8.save(\"8Columns_DeepModel8_Trained.h5\")"
   ]
  },
  {
   "cell_type": "code",
   "execution_count": 72,
   "metadata": {},
   "outputs": [],
   "source": [
    "deep_model_remake8.save(\"8Columns_DeepModel8_Trained.h5\")"
   ]
  },
  {
   "cell_type": "markdown",
   "metadata": {},
   "source": [
    "combine the decision tree with logistic regression. use decision tree as a clustering algorithm. or you can do it with k means. \n",
    "GY for git source tree"
   ]
  }
 ],
 "metadata": {
  "anaconda-cloud": {},
  "kernelspec": {
   "display_name": "Python 3",
   "language": "python",
   "name": "python3"
  },
  "language_info": {
   "codemirror_mode": {
    "name": "ipython",
    "version": 3
   },
   "file_extension": ".py",
   "mimetype": "text/x-python",
   "name": "python",
   "nbconvert_exporter": "python",
   "pygments_lexer": "ipython3",
   "version": "3.7.1"
  },
  "varInspector": {
   "cols": {
    "lenName": 16,
    "lenType": 16,
    "lenVar": 40
   },
   "kernels_config": {
    "python": {
     "delete_cmd_postfix": "",
     "delete_cmd_prefix": "del ",
     "library": "var_list.py",
     "varRefreshCmd": "print(var_dic_list())"
    },
    "r": {
     "delete_cmd_postfix": ") ",
     "delete_cmd_prefix": "rm(",
     "library": "var_list.r",
     "varRefreshCmd": "cat(var_dic_list()) "
    }
   },
   "types_to_exclude": [
    "module",
    "function",
    "builtin_function_or_method",
    "instance",
    "_Feature"
   ],
   "window_display": false
  }
 },
 "nbformat": 4,
 "nbformat_minor": 2
}
